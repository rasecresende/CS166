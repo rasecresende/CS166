{
 "cells": [
  {
   "cell_type": "code",
   "execution_count": 16,
   "id": "bc3e4b1e-4de8-4890-8865-b9dc394737e5",
   "metadata": {},
   "outputs": [],
   "source": [
    "import random\n",
    "import numpy as np\n",
    "import matplotlib.pyplot as plt\n",
    "import math"
   ]
  },
  {
   "cell_type": "markdown",
   "id": "fe8c74e3-79d8-4053-bccb-2337e236a2df",
   "metadata": {},
   "source": [
    "# Discrete Random Walk"
   ]
  },
  {
   "cell_type": "code",
   "execution_count": 12,
   "id": "160450b4-8469-47f6-8c80-da45a7f26899",
   "metadata": {},
   "outputs": [],
   "source": [
    "def random_walk(start, length):\n",
    "    position = start\n",
    "    for i in range(length):\n",
    "        if position == -4:\n",
    "            position += 1 \n",
    "        elif random.random() < 0.5:\n",
    "            position += 1\n",
    "        else:\n",
    "            position -= 1 \n",
    "    \n",
    "    return position"
   ]
  },
  {
   "cell_type": "code",
   "execution_count": 13,
   "id": "4e575a72-4a88-4590-8b6f-807d2c17d1e3",
   "metadata": {},
   "outputs": [
    {
     "data": {
      "image/png": "[encoded data removed]",
      "text/plain": [
       "<Figure size 432x288 with 1 Axes>"
      ]
     },
     "metadata": {
      "needs_background": "light"
     },
     "output_type": "display_data"
    }
   ],
   "source": [
    "steps = []\n",
    "\n",
    "for i in range(500):\n",
    "    steps.append(random_walk(0, 200))\n",
    "    \n",
    "plt.figure()\n",
    "plt.hist(steps)\n",
    "plt.show()"
   ]
  },
  {
   "cell_type": "code",
   "execution_count": 14,
   "id": "e1e33409-8e48-473c-b9d1-33ef8843d397",
   "metadata": {},
   "outputs": [],
   "source": [
    "def random_walk2(start, length):\n",
    "    position = start\n",
    "    for i in range(length):\n",
    "        if position == 6:\n",
    "            if random.random() < 0.75:\n",
    "                position -= 1\n",
    "            else:\n",
    "                position += 1\n",
    "        elif random.random() < 0.5:\n",
    "            position += 1\n",
    "        else:\n",
    "            position -= 1 \n",
    "            \n",
    "    return position"
   ]
  },
  {
   "cell_type": "code",
   "execution_count": 15,
   "id": "92a7fc7d-6151-442f-898f-ba5e0019ebe2",
   "metadata": {},
   "outputs": [
    {
     "data": {
      "image/png": "[encoded data removed]",
      "text/plain": [
       "<Figure size 432x288 with 1 Axes>"
      ]
     },
     "metadata": {
      "needs_background": "light"
     },
     "output_type": "display_data"
    }
   ],
   "source": [
    "steps2 = []\n",
    "\n",
    "for i in range(200):\n",
    "    steps2.append(random_walk2(0, 300))\n",
    "    \n",
    "plt.figure()\n",
    "plt.hist(steps2)\n",
    "plt.show()"
   ]
  },
  {
   "cell_type": "markdown",
   "id": "e088160c-df62-4ab0-9da8-1a9a2cfe1042",
   "metadata": {},
   "source": [
    "# Gaussian Random Walk"
   ]
  },
  {
   "cell_type": "code",
   "execution_count": 17,
   "id": "3e891268-b98b-497f-b1ca-e308ce27a903",
   "metadata": {},
   "outputs": [],
   "source": [
    "def random_walk3(length):\n",
    "    mu = 0.1\n",
    "    sigma = 0.3\n",
    "    deltat = 1/365\n",
    "    pos = 100\n",
    "    \n",
    "    for i in range(length):\n",
    "        pos += pos * (mu*deltat + sigma * np.random.normal(0, deltat))\n",
    "        \n",
    "    return pos"
   ]
  },
  {
   "cell_type": "code",
   "execution_count": 19,
   "id": "f449d98b-de3e-4a0e-92be-51df1b4bb744",
   "metadata": {},
   "outputs": [
    {
     "data": {
      "image/png": "[encoded data removed]",
      "text/plain": [
       "<Figure size 432x288 with 1 Axes>"
      ]
     },
     "metadata": {
      "needs_background": "light"
     },
     "output_type": "display_data"
    }
   ],
   "source": [
    "steps3 = []\n",
    "\n",
    "for i in range(10000):\n",
    "    steps3.append(random_walk3(90))\n",
    "    \n",
    "plt.figure()\n",
    "plt.hist(steps3)\n",
    "plt.show()"
   ]
  },
  {
   "cell_type": "code",
   "execution_count": 21,
   "id": "a819e23a-bbab-40a3-bd2a-36a6ec8c0c1b",
   "metadata": {},
   "outputs": [
    {
     "data": {
      "image/png": "[encoded data removed]",
      "text/plain": [
       "<Figure size 432x288 with 1 Axes>"
      ]
     },
     "metadata": {
      "needs_background": "light"
     },
     "output_type": "display_data"
    }
   ],
   "source": [
    "steps4 = []\n",
    "for i in steps3:\n",
    "    steps4.append(math.log10(i))\n",
    "\n",
    "plt.figure()\n",
    "plt.hist(steps4)\n",
    "plt.show()"
   ]
  },
  {
   "cell_type": "code",
   "execution_count": null,
   "id": "77c53536-28ba-43cd-ad62-1c3f7e205238",
   "metadata": {},
   "outputs": [],
   "source": []
  }
 ],
 "metadata": {
  "kernelspec": {
   "display_name": "Python 3 (ipykernel)",
   "language": "python",
   "name": "python3"
  },
  "language_info": {
   "codemirror_mode": {
    "name": "ipython",
    "version": 3
   },
   "file_extension": ".py",
   "mimetype": "text/x-python",
   "name": "python",
   "nbconvert_exporter": "python",
   "pygments_lexer": "ipython3",
   "version": "3.8.12"
  }
 },
 "nbformat": 4,
 "nbformat_minor": 5
}
