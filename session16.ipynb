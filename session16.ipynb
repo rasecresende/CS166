{
 "cells": [
  {
   "cell_type": "code",
   "execution_count": 1,
   "id": "adfebc4a-b840-4e8d-8b12-8f35eba17e71",
   "metadata": {},
   "outputs": [],
   "source": [
    "import matplotlib.pyplot as plt\n",
    "import numpy as np\n",
    "import random"
   ]
  },
  {
   "cell_type": "code",
   "execution_count": 2,
   "id": "4a266354-d5a9-490f-8728-e80e72c6292f",
   "metadata": {},
   "outputs": [],
   "source": [
    "turns = 20\n",
    "bias_heads = 0.6\n",
    "iterations = 1000\n",
    "total = []\n",
    "\n",
    "for i in range(iterations):\n",
    "    money = 250\n",
    "    for i in range(turns):\n",
    "        chance = np.random.uniform(0,1)\n",
    "        money_bet = money*0.2\n",
    "        if chance < bias_heads:\n",
    "            money += money_bet\n",
    "        else:\n",
    "            money -= money_bet\n",
    "    total.append(money)"
   ]
  },
  {
   "cell_type": "code",
   "execution_count": 3,
   "id": "7277749e-6820-4132-a796-ecdf669a4e2a",
   "metadata": {},
   "outputs": [
    {
     "data": {
      "image/png": "[encoded data removed]",
      "text/plain": [
       "<Figure size 432x288 with 1 Axes>"
      ]
     },
     "metadata": {
      "needs_background": "light"
     },
     "output_type": "display_data"
    }
   ],
   "source": [
    "plt.hist(total)\n",
    "plt.show()\n"
   ]
  },
  {
   "cell_type": "code",
   "execution_count": null,
   "id": "4fbb0c77-8a2a-436a-a354-e4c781cf5b39",
   "metadata": {},
   "outputs": [],
   "source": []
  },
  {
   "cell_type": "code",
   "execution_count": null,
   "id": "b3335d7a-9c6a-4e6d-8a1b-1b29aa9c0625",
   "metadata": {},
   "outputs": [],
   "source": []
  }
 ],
 "metadata": {
  "kernelspec": {
   "display_name": "Python 3 (ipykernel)",
   "language": "python",
   "name": "python3"
  },
  "language_info": {
   "codemirror_mode": {
    "name": "ipython",
    "version": 3
   },
   "file_extension": ".py",
   "mimetype": "text/x-python",
   "name": "python",
   "nbconvert_exporter": "python",
   "pygments_lexer": "ipython3",
   "version": "3.8.12"
  }
 },
 "nbformat": 4,
 "nbformat_minor": 5
}
