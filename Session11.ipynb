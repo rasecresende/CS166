{
 "cells": [
  {
   "cell_type": "markdown",
   "id": "f3cc24f2-de2a-4d35-a61c-61a25c1e4932",
   "metadata": {},
   "source": [
    "# Exercise 14"
   ]
  },
  {
   "cell_type": "code",
   "execution_count": 2,
   "id": "35518151-c0f8-484c-8121-699a91e868c7",
   "metadata": {},
   "outputs": [],
   "source": [
    "import numpy as np\n",
    "import scipy.stats as sts\n",
    "import matplotlib.pyplot as plt"
   ]
  },
  {
   "cell_type": "code",
   "execution_count": 3,
   "id": "b51580a1-9d93-491d-ba7f-d6f334652d1c",
   "metadata": {},
   "outputs": [
    {
     "name": "stdout",
     "output_type": "stream",
     "text": [
      "Expected passenger wait time: 0.9982909108254229\n"
     ]
    },
    {
     "data": {
      "image/png": "[encoded data removed]",
      "text/plain": [
       "<Figure size 432x288 with 1 Axes>"
      ]
     },
     "metadata": {
      "needs_background": "light"
     },
     "output_type": "display_data"
    }
   ],
   "source": [
    "\n",
    "\n",
    "lambd = 1  \n",
    "trials = 100000  \n",
    "passenger_wait_times = []\n",
    "\n",
    "for _ in range(trials):\n",
    "    passenger_arrival_time = np.random.uniform(0, 10)\n",
    "    bus_interarrival_times = np.random.exponential(lambd, size=1000)\n",
    "    bus_arrival_times = np.cumsum(bus_interarrival_times)\n",
    "    index = bus_arrival_times.searchsorted(passenger_arrival_time)\n",
    "    passenger_wait_times.append(bus_arrival_times[index] - passenger_arrival_time)\n",
    "\n",
    "print(\n",
    "    'Expected passenger wait time:',\n",
    "    np.mean(passenger_wait_times))\n",
    "plt.hist(passenger_wait_times, bins=50, density=True)\n",
    "\n",
    "x = np.linspace(0, max(passenger_wait_times))\n",
    "plt.plot(x, sts.expon.pdf(x, scale=1/lambd), 'r-')\n",
    "\n",
    "plt.show()"
   ]
  },
  {
   "cell_type": "code",
   "execution_count": 4,
   "id": "91a333fa-bc99-49e9-b299-1af933e917a6",
   "metadata": {},
   "outputs": [
    {
     "name": "stdout",
     "output_type": "stream",
     "text": [
      "Expected passenger wait time: 0.6751056165716284\n"
     ]
    },
    {
     "data": {
      "image/png": "[encoded data removed]",
      "text/plain": [
       "<Figure size 432x288 with 1 Axes>"
      ]
     },
     "metadata": {
      "needs_background": "light"
     },
     "output_type": "display_data"
    }
   ],
   "source": [
    "lambd = 1  \n",
    "          \n",
    "trials = 100000  \n",
    "\n",
    "passenger_wait_times = []\n",
    "\n",
    "for _ in range(trials):\n",
    "    passenger_arrival_time = np.random.uniform(0, 10)\n",
    "    bus_interarrival_times = np.random.uniform(0, 2 * lambd, size=1000)\n",
    "    bus_arrival_times = np.cumsum(bus_interarrival_times)\n",
    "    index = bus_arrival_times.searchsorted(passenger_arrival_time)\n",
    "    passenger_wait_times.append(bus_arrival_times[index] - passenger_arrival_time)\n",
    "\n",
    "print(\n",
    "    'Expected passenger wait time:',\n",
    "    np.mean(passenger_wait_times))\n",
    "plt.hist(passenger_wait_times, bins=50, density=True)\n",
    "\n",
    "x = np.linspace(0, 2)\n",
    "plt.plot(x, 1-x/2, 'r-')\n",
    "plt.show()"
   ]
  },
  {
   "cell_type": "markdown",
   "id": "a43789b8-ffa6-42a9-a738-76e69cd21a53",
   "metadata": {},
   "source": [
    "# Exercise 24"
   ]
  },
  {
   "cell_type": "code",
   "execution_count": 4,
   "id": "b9012722-f8a4-4115-9cbe-a9dfbe5feee9",
   "metadata": {},
   "outputs": [],
   "source": [
    "data = {\n",
    "50: 0.00832, 51: 0.00911, 52: 0.00996, 53: 0.01089, 54: 0.01190,\n",
    "55: 0.01300, 56: 0.01421, 57: 0.01554, 58: 0.01700, 59: 0.01859,\n",
    "60: 0.02034, 61: 0.02224, 62: 0.02431, 63: 0.02657, 64: 0.02904,\n",
    "65: 0.03175, 66: 0.03474, 67: 0.03804, 68: 0.04168, 69: 0.04561,\n",
    "70: 0.04979, 71: 0.05415, 72: 0.05865, 73: 0.06326, 74: 0.06812,\n",
    "75: 0.07337, 76: 0.07918, 77: 0.08570, 78: 0.09306, 79: 0.10119,\n",
    "80: 0.10998, 81: 0.11935, 82: 0.12917, 83: 0.13938, 84: 0.15001,\n",
    "85: 0.16114, 86: 0.17282, 87: 0.18513, 88: 0.19825, 89: 0.21246,\n",
    "90: 0.22814, 91: 0.24577, 92: 0.26593, 93: 0.28930, 94: 0.31666,\n",
    "95: 0.35124, 96: 0.40056, 97: 0.48842, 98: 0.66815, 99: 0.72000,\n",
    "100: 0.76000, 101: 0.80000, 102: 0.85000, 103: 0.90000,\n",
    "104: 0.96000, 105: 1.00000}"
   ]
  },
  {
   "cell_type": "code",
   "execution_count": 7,
   "id": "242c8d21-155a-42db-8809-6be3dc966c03",
   "metadata": {},
   "outputs": [],
   "source": [
    "def check_death(prob):\n",
    "    return np.random.uniform(0,1) >= prob\n",
    "\n",
    "\n",
    "def simulate():\n",
    "    final_amount = []\n",
    "    money = 150000\n",
    "\n",
    "    for year in data:\n",
    "        \n",
    "        growth = np.random.normal(0.08, 0.09)\n",
    "\n",
    "        if year < 70:\n",
    "            money += 10000\n",
    "            money = money*growth\n",
    "        if year >= 70:\n",
    "            money -= 65000\n",
    "            money = money*growth\n",
    "            \n",
    "        final_amount.append(money)\n",
    "            \n",
    "        if data[year] >= np.random.uniform(0,1):\n",
    "            return final_amount[-1]\n",
    "        else:\n",
    "            continue\n",
    "        \n",
    "    return final_amount[-1]\n",
    "\n",
    "        "
   ]
  },
  {
   "cell_type": "code",
   "execution_count": 12,
   "id": "8f965992-706b-4084-bffd-95dfd2c11bbb",
   "metadata": {},
   "outputs": [
    {
     "data": {
      "image/png": "[encoded data removed]",
      "text/plain": [
       "<Figure size 432x288 with 1 Axes>"
      ]
     },
     "metadata": {
      "needs_background": "light"
     },
     "output_type": "display_data"
    }
   ],
   "source": [
    "import matplotlib.pyplot as plt\n",
    "\n",
    "values = []\n",
    "for i in range(100):\n",
    "    value = simulate()\n",
    "    values.append(value)\n",
    "    \n",
    "plt.figure()    \n",
    "plt.hist(values)\n",
    "plt.show()"
   ]
  },
  {
   "cell_type": "code",
   "execution_count": null,
   "id": "e53be23d-3f10-4fbd-978d-8cc34a18b198",
   "metadata": {},
   "outputs": [],
   "source": []
  },
  {
   "cell_type": "code",
   "execution_count": null,
   "id": "e50dc618-5eec-4381-91c8-360dc17b6f35",
   "metadata": {},
   "outputs": [],
   "source": []
  }
 ],
 "metadata": {
  "kernelspec": {
   "display_name": "Python 3 (ipykernel)",
   "language": "python",
   "name": "python3"
  },
  "language_info": {
   "codemirror_mode": {
    "name": "ipython",
    "version": 3
   },
   "file_extension": ".py",
   "mimetype": "text/x-python",
   "name": "python",
   "nbconvert_exporter": "python",
   "pygments_lexer": "ipython3",
   "version": "3.8.12"
  }
 },
 "nbformat": 4,
 "nbformat_minor": 5
}
