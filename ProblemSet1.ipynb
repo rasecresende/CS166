{
 "cells": [
  {
   "cell_type": "markdown",
   "id": "f8c256db-5d57-40cb-a640-8be51e020fa3",
   "metadata": {},
   "source": [
    "# Problem 1: Design a Model"
   ]
  },
  {
   "cell_type": "markdown",
   "id": "66009e3a-cdd7-4bb8-991b-5b649a3b22e3",
   "metadata": {},
   "source": [
    "An interesting real-world system to model would be the transmission of a virus within a community. There are multiple human agents in this hypothetical system who interact with each other by spreading and perpetuating a disease.\n",
    "\n",
    "The scale at which to model would be a community such as a city and our components are humans, who can be carriers or not of a given virus. This level is preferred since it allows us to have a granular level of attention and still draw significant insights. A larger scale, such as a country, would over-complicate spatial relations. A smaller scale, such as a neighborhood, would be easier to model but analyzing the relationships that arise wouldn't be as relevant (for enacting policy changes for example).\n",
    "\n",
    "The states humans can take are discrete. Those are infected, recovered, susceptible and immune. Infected would a carrier of the virus, recovered someone who previously had the virus and recovered, susceptible is someone who might be infected, and immune is someone who is recovered and can no longer have the virus. Lastly, there is the dead state, which are people who either died of natural cause or from the virus.\n",
    "\n",
    "Some of the parameters that we want to consider that directly affect those states are the degree of transmission (that is how likely it is for someone to get infected), duration of disease (how long it takes for a person to either die or recover), the recovery rate (how likely to move from infected to recovered), the immunity rate (how likely to become immune after recovered), turnover rate (so how many people die naturally and how many reproduce), average lifespan (how long for people to die of natural causes). Also, we would also want to account for the migration rate, that is how many people are entering/leaving the city. This is different from turnover rate since we want to account for people actually migrating in and out of the city. The last parameter that we would include is the population density (how many people we initialize into the model and how many of them are infected).\n",
    "\n",
    "Components move around randomly through the space and interact with each other by proximity. Infected individuals can contaminate susceptible according to the transmission rate, which dicates how much contact is needed for infection, which can be either deterministic or probabilistic.\n",
    "\n",
    "The macroscopic behaviors that we are interested in analyzing relate to how well the virus can thrive given the parameters we have. We would expect for example that the first time steps would always lead to an initial outbreak since there are no immune people, so we have to wait for infected to either die or create immunity. Furthermore, we would be particularly interested in exploring when herd immunity occurs (when most of the population becomes immune). Viruses whose parameters are set to high infection rate might actually achieve this faster since the potential number of susceptible hosts quickly becomes limited."
   ]
  },
  {
   "cell_type": "markdown",
   "id": "38088f98-595a-432a-9327-60cbbb16db30",
   "metadata": {},
   "source": [
    "# Problem 2: Is the random module random?"
   ]
  },
  {
   "cell_type": "markdown",
   "id": "c08a7bb4-2738-4de3-8f63-40389d66a5a9",
   "metadata": {},
   "source": [
    "To check if the random module generates values with the same properties as truly random numbers, we start off by plotting a histogram for the number of times each value appears:"
   ]
  },
  {
   "cell_type": "code",
   "execution_count": 1,
   "id": "a2622f35-e5aa-4dda-b4c1-ba1c567ccd76",
   "metadata": {},
   "outputs": [
    {
     "data": {
      "image/png": "[encoded data removed]",
      "text/plain": [
       "<Figure size 432x288 with 1 Axes>"
      ]
     },
     "metadata": {
      "needs_background": "light"
     },
     "output_type": "display_data"
    }
   ],
   "source": [
    "import numpy as np\n",
    "import matplotlib.pyplot as plt\n",
    "\n",
    "numbers = np.random.randint(100, size=1000000)\n",
    "\n",
    "plt.figure()\n",
    "plt.hist(numbers, 100)\n",
    "plt.title('Histogram of random numbers')\n",
    "plt.ylabel('Frequency')\n",
    "plt.xlabel('Numbers')\n",
    "plt.show()"
   ]
  },
  {
   "cell_type": "markdown",
   "id": "87007ea5-adc2-47c8-805b-b1d204c09ab2",
   "metadata": {},
   "source": [
    "We see that each value appears roughly 10000 times, which is the same as the expected frequency (sample 1000000 integers / 100 possible numbers). Next, we can plot a distribution of how often each value is actually drawn."
   ]
  },
  {
   "cell_type": "code",
   "execution_count": 2,
   "id": "ce54a206-8d91-4a5d-bdb1-9cd95088ff76",
   "metadata": {},
   "outputs": [
    {
     "data": {
      "image/png": "[encoded data removed]",
      "text/plain": [
       "<Figure size 432x288 with 1 Axes>"
      ]
     },
     "metadata": {
      "needs_background": "light"
     },
     "output_type": "display_data"
    },
    {
     "name": "stdout",
     "output_type": "stream",
     "text": [
      "Mean: 10000.0\n",
      "Std: 100.03019544117666\n"
     ]
    }
   ],
   "source": [
    "uniques = np.unique(numbers, return_counts = True)\n",
    "\n",
    "plt.figure()\n",
    "plt.hist(uniques[1], density= True)\n",
    "plt.title(\"Count of draws\")\n",
    "plt.ylabel(\"Frequency\")\n",
    "plt.xlabel(\"Count\")\n",
    "plt.show()\n",
    "\n",
    "print('Mean:',np.mean(uniques[1]))\n",
    "print('Std:',np.std(uniques[1]))"
   ]
  },
  {
   "cell_type": "markdown",
   "id": "a666f090-32be-40b0-b890-e7bcee1137f7",
   "metadata": {},
   "source": [
    "Our values range from 9700 to 10200 and the mean of how often each value appears is around 10000, which coincides with our findings from the previous histogram. According to the Central Limit Theorem, if we take random samples from the population then the distribution will approximately normally distributed, which seems to hold true in this case. As such, the random module indeed seems to be sufficiently \"random\"."
   ]
  },
  {
   "cell_type": "markdown",
   "id": "ce854eb1-4389-4e18-a09a-ccdbe379b05c",
   "metadata": {},
   "source": [
    "# Problem 3: Forest fire mean-field approximation"
   ]
  },
  {
   "cell_type": "markdown",
   "id": "cc0266e1-3843-45c1-bca4-356ef0e98646",
   "metadata": {},
   "source": [
    "$∆\\rho_e = \\rho_f − p\\rho_e $\n",
    "\n",
    "The first equation refers to the change in mean density of empty sites. We arrive at this equation from the intuition that all burning trees become empty sites ($\\rho_f$), which is simply the density of trees on fire, and then substract from the proportion of empty sites becoming trees ($p\\rho_e $), which is the density of empty sites times the probability of turning into a tree.\n",
    "\n",
    "<br>\n",
    "\n",
    "$ ∆\\rho_t = p\\rho_e - \\rho_t(1-g)(f + (1-f)(1 - (1-\\rho_f)^{2d}))$\n",
    "\n",
    "The second equation refers to the change in mean density of trees. For that, we have to find the trees that arise out of empty spaces and substract from the trees that get burned.\n",
    "\n",
    "The first term corresponds to trees arising out of empty spaces, where we multiply the probability of empty -> tree and the density of empty spaces ($p\\rho_e$)\n",
    "\n",
    "For the second term, there are two ways of catching on fire: P(fire | no neighboor burning) = $\\rho_t (1-g) f (1 - \\rho_f)^{2d}$ and P(fire | neighboors burning) =  $\\rho_t (1-g) (1 - (1 - \\rho_f)^{2d})$. We arrive at this since the probability of one cell being on fire is $\\rho_f$, so the probability of not being on fire is the complement of that. Because we also have to acccount for all the neighbors in the dimension we add an exponent of 2d, leading us to the expression $(1 - \\rho_f)^{2d}$ which corresponds to probability of neighbors around a cell not being on fire. This is a common expression to both ways of catching fire, which we have to add together, leading us to $\\rho_t (1-g) f (1 - \\rho_f)^{2d} + \\rho_t (1-g) (1 - (1 - \\rho_f)^{2d}) = \\rho_t(1-g)(f + (1-f)(1 - (1-\\rho_f)^{2d})$.\n",
    "\n",
    "Now that we have both terms defined, we substract the density of trees that arise from the density of trees that get burned, leading us to the second equation.\n",
    "\n",
    "<br>\n",
    "\n",
    "$△\\rho_f = - \\rho_f + \\rho_t(1-g) (f + (1 - f) (1 - \\rho_f)^{2d}))$\n",
    "\n",
    "The third equation refers to the change in mean density of trees on fire. We already have the expresion for trees catching on fire from the previous equation, which is $\\rho_t(1-g)(f + (1-f)(1 - (1-\\rho_f)^{2d})$.\n",
    "\n",
    "Because at each time step all of the trees that were on fire die out, we substract the proportion of trees that were on fire on the previous step, which is $\\rho_f$. Once we do that, we arrive at the third equation."
   ]
  },
  {
   "cell_type": "markdown",
   "id": "9c74b07b-4326-4f45-aa95-94f52e4ed6bd",
   "metadata": {},
   "source": [
    "# Problem 4: Wireworld"
   ]
  },
  {
   "cell_type": "markdown",
   "id": "4b0d53b6-cdba-4542-8ca3-21064ba01046",
   "metadata": {},
   "source": [
    "The code for this question was inspired from the following sources:\n",
    "\n",
    "https://github.com/Farbfetzen/Wireworld\n",
    "\n",
    "https://github.com/yackx/wireworld"
   ]
  },
  {
   "cell_type": "code",
   "execution_count": 3,
   "id": "042b0d89-1caf-4c61-a260-370acbf0c3ea",
   "metadata": {},
   "outputs": [],
   "source": [
    "import random as rd\n",
    "from PIL import Image\n",
    "from matplotlib import colors\n",
    "from matplotlib import animation\n",
    "from IPython.display import HTML\n",
    "from celluloid import Camera\n",
    "import time as tm\n",
    "from matplotlib import rc\n",
    "import tempfile; tempfile.tempdir='./'\n",
    "from matplotlib.animation import FuncAnimation\n",
    "from tqdm import tqdm"
   ]
  },
  {
   "cell_type": "code",
   "execution_count": 4,
   "id": "0b734096-082d-481a-a81f-75475abe0ef1",
   "metadata": {},
   "outputs": [],
   "source": [
    "initial = np.array([\n",
    "    [0,0,0,0,0,0,0,0,0,0,0,0,0,0,0,0,0,0,0,0,0,0,0,0],\n",
    "    [0,0,0,0,0,0,0,0,0,0,0,0,0,0,0,0,0,0,0,0,0,0,0,0], \n",
    "    [0,0,0,3,3,2,1,3,3,3,3,0,0,0,0,0,0,0,0,0,0,0,0,0],\n",
    "    [0,0,3,0,0,0,0,0,0,0,0,2,1,3,3,3,3,0,0,0,0,0,0,0],\n",
    "    [0,0,0,3,3,3,3,3,3,3,1,0,0,0,0,0,0,3,0,0,0,0,0,0],\n",
    "    [0,0,0,0,0,0,0,0,0,0,0,0,0,0,0,0,3,3,3,3,0,0,0,0],\n",
    "    [0,0,0,0,0,0,0,0,0,0,0,0,0,0,0,0,3,0,0,3,3,3,3,3],\n",
    "    [0,0,0,0,0,0,0,0,0,0,0,0,0,0,0,0,1,1,1,3,0,0,0,0],\n",
    "    [0,0,0,3,3,2,1,3,3,3,3,0,0,0,0,0,0,2,0,0,0,0,0,0],\n",
    "    [0,0,3,0,0,0,0,0,0,0,0,3,3,3,3,3,3,0,0,0,0,0,0,0],\n",
    "    [0,0,0,3,1,2,3,3,3,3,3,0,0,0,0,0,0,0,0,0,0,0,0,0],\n",
    "    [0,0,0,0,0,0,0,0,0,0,0,0,0,0,0,0,0,0,0,0,0,0,0,0],  \n",
    "    [0,0,0,0,0,0,0,0,0,0,0,0,0,0,0,0,0,0,0,0,0,0,0,0]\n",
    "])\n",
    "\n"
   ]
  },
  {
   "cell_type": "code",
   "execution_count": 5,
   "id": "9771ebe4-2139-41a6-b559-6c15a024051e",
   "metadata": {},
   "outputs": [],
   "source": [
    "class Wireworld:\n",
    "    '''\n",
    "    We use this class to contain the Wireworld simulation\n",
    "    and its attributes\n",
    "    '''\n",
    "    def __init__(self, cells):\n",
    "        self.height = 13\n",
    "        self.width = 24\n",
    "        self.current_state = cells\n",
    "        \n",
    "    def __rules(self, row, col):\n",
    "        '''\n",
    "        Defines the transition rules from one state to\n",
    "        the other\n",
    "        '''\n",
    "        bg = 0\n",
    "        head = 1\n",
    "        tail = 2\n",
    "        wire = 3\n",
    "        \n",
    "        if self.current_state[row][col] == bg:\n",
    "            return bg\n",
    "        elif self.current_state[row][col] == head:\n",
    "            return tail\n",
    "        elif self.current_state[row][col] == tail:\n",
    "            return wire\n",
    "        \n",
    "        elif self.current_state[row][col] == wire:\n",
    "            count_heads = 0\n",
    "            for dx in range(-1, 2):\n",
    "                for dy in range(-1, 2):\n",
    "                    if row + dx < 0 or row + dx >= self.height:\n",
    "                        continue\n",
    "                    if col + dy < 0 or col + dy >= self.width:\n",
    "                        continue\n",
    "                    if self.current_state[row + dx][col + dy] == 1:\n",
    "                        count_heads += 1\n",
    "            if count_heads == 1:\n",
    "                return 1\n",
    "            if count_heads == 2:\n",
    "                return 1\n",
    "            return 3            \n",
    "    \n",
    "    def next_step(self):\n",
    "        '''\n",
    "        Updates the simulation to the next step using\n",
    "        the rules above\n",
    "        '''\n",
    "        next_state = np.zeros((self.height, self.width), int)\n",
    "        for x in range(self.height):\n",
    "            for y in range(self.width):\n",
    "                next_state[x][y] = self.__rules(x, y)\n",
    "        self.current_state = next_state\n",
    "    \n",
    "    def show(self):\n",
    "        '''\n",
    "        Creates an example visualization\n",
    "        '''\n",
    "        plt.grid()\n",
    "        plt.imshow(self.current_state)        "
   ]
  },
  {
   "cell_type": "code",
   "execution_count": 6,
   "id": "a5adcb30-b46c-4297-9746-9ba26a4691c3",
   "metadata": {},
   "outputs": [
    {
     "data": {
      "image/png": "[encoded data removed]",
      "text/plain": [
       "<Figure size 432x288 with 1 Axes>"
      ]
     },
     "metadata": {
      "needs_background": "light"
     },
     "output_type": "display_data"
    }
   ],
   "source": [
    "# Print out example to check if the model is working\n",
    "sim = Wireworld(initial)\n",
    "sim.next_step()\n",
    "sim.show()"
   ]
  },
  {
   "cell_type": "code",
   "execution_count": 8,
   "id": "fd24a24e-1438-4311-8c66-a237c9973397",
   "metadata": {},
   "outputs": [
    {
     "name": "stderr",
     "output_type": "stream",
     "text": [
      "MovieWriter imagemagick unavailable; using Pillow instead.\n"
     ]
    },
    {
     "data": {
      "text/html": [
       "\n",
       "            <image style=\"width:200\" src=\"./tmp56hdt1pd.gif\" >\n",
       "                "
      ],
      "text/plain": [
       "<IPython.core.display.HTML object>"
      ]
     },
     "metadata": {},
     "output_type": "display_data"
    },
    {
     "data": {
      "image/png": "[encoded data removed]",
      "text/plain": [
       "<Figure size 432x288 with 1 Axes>"
      ]
     },
     "metadata": {
      "needs_background": "light"
     },
     "output_type": "display_data"
    }
   ],
   "source": [
    "def animate(n, setup):\n",
    "    '''\n",
    "    We use this function to properly run the animation\n",
    "    Reference: https://towardsdatascience.com/the-simplest-way-of-making-gifs-and-math-videos-with-python-aec41da74c6e\n",
    "    \n",
    "    '''\n",
    "    fig = plt.figure()\n",
    "    camera = Camera(fig)\n",
    "    \n",
    "    sim = Wireworld(setup)\n",
    "    \n",
    "    for _ in range(n):\n",
    "        sim.next_step()\n",
    "        plt.grid()\n",
    "        plt.imshow(sim.current_state, extent = [0, sim.width, 0, sim.height], animated = True)\n",
    "        camera.snap()\n",
    "\n",
    "    anim = camera.animate()\n",
    "    fname = tempfile.mktemp('.gif')\n",
    "    anim.save(fname, writer = 'imagemagick')\n",
    "    tm.sleep(0.1)\n",
    "    \n",
    "    display(HTML(\"\"\"\n",
    "            <image style=\"width:200\" src=\"{}\" >\n",
    "                \"\"\".format(fname)))\n",
    "\n",
    "animate(100, initial)"
   ]
  }
 ],
 "metadata": {
  "kernelspec": {
   "display_name": "Python 3 (ipykernel)",
   "language": "python",
   "name": "python3"
  },
  "language_info": {
   "codemirror_mode": {
    "name": "ipython",
    "version": 3
   },
   "file_extension": ".py",
   "mimetype": "text/x-python",
   "name": "python",
   "nbconvert_exporter": "python",
   "pygments_lexer": "ipython3",
   "version": "3.8.12"
  }
 },
 "nbformat": 4,
 "nbformat_minor": 5
}
