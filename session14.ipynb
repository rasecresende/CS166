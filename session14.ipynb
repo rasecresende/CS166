{
 "cells": [
  {
   "cell_type": "code",
   "execution_count": 4,
   "id": "d5f6e554-d049-452a-ab1b-dc166dc5d0dd",
   "metadata": {},
   "outputs": [],
   "source": [
    "import numpy as np\n",
    "import matplotlib.pyplot as plt\n",
    "\n",
    "class IsingSimulation:\n",
    "\n",
    "    J = 6.34369e-21  # Interaction constant for iron [Joule]\n",
    "    kB = 1.38065e-23  # Boltzmann constant [Joule / Kelvin]\n",
    "\n",
    "    def __init__(self, size, temperature=300):\n",
    "        '''\n",
    "        Create a new Ising model simulation. The state is initialized\n",
    "        randomly.\n",
    "\n",
    "        Arguments:\n",
    "\n",
    "            size (int) The number of cells along each dimension of the\n",
    "              square grid.\n",
    "\n",
    "            temperature (float) The temperature in Kelvin at which to\n",
    "              run the simulation. The Curie temperature for iron is\n",
    "              1043 K. Room temperature is about 300 K. Default: 300.\n",
    "        '''\n",
    "        self.size = size\n",
    "        self.temperature = temperature\n",
    "        self.state = np.random.choice(\n",
    "            [-1, +1], size=(self.size, self.size))\n",
    "        self.step = 0\n",
    "\n",
    "    def set_temperature(self, temp):\n",
    "        '''\n",
    "        Set the temperature of the model in Kelvin.\n",
    "        '''\n",
    "        self.temperature = float(temp)\n",
    "\n",
    "    def energy(self):\n",
    "        '''\n",
    "        Compute the energy of the current state of the model.\n",
    "        '''\n",
    "        return -self.J * (self.state * (\n",
    "            np.roll(self.state, 1, axis=0) +\n",
    "            np.roll(self.state, 1, axis=1))).sum()\n",
    "\n",
    "    def average_magnetism(self):\n",
    "        '''\n",
    "        Compute the average per-cell magnetism of the current state\n",
    "        of the model.\n",
    "        '''\n",
    "        return self.state.mean()\n",
    "\n",
    "    def update(self):\n",
    "        '''\n",
    "        Do a single cell update of the model state.\n",
    "        '''\n",
    "        # Pick a random cell to flip\n",
    "        i, j = np.random.randint(self.size, size=2)\n",
    "\n",
    "        # Change in energy from current state to next state\n",
    "        delta_E = 2 * self.J * self.state[i,j] * (\n",
    "            self.state[(i + 1) % self.size, j] +\n",
    "            self.state[(i - 1) % self.size, j] +\n",
    "            self.state[i, (j + 1) % self.size] +\n",
    "            self.state[i, (j - 1) % self.size])\n",
    "\n",
    "        # Log probability of changing state\n",
    "        log_p = -delta_E / (self.temperature * self.kB)\n",
    "        if np.log(np.random.uniform(0, 1)) < log_p:\n",
    "            self.state[i,j] = -self.state[i,j]\n",
    "\n",
    "        self.step += 1\n",
    "\n",
    "    def display(self):\n",
    "        '''\n",
    "        Plot the state of the model.\n",
    "        '''\n",
    "        plt.figure()\n",
    "        plt.imshow(self.state, vmin=-1, vmax=+1)\n",
    "        plt.title('Step: ' + str(self.step) + ', M = ' + str(self.average_magnetism()))"
   ]
  },
  {
   "cell_type": "code",
   "execution_count": 2,
   "id": "83651b4a-059d-4266-bc7f-ef0f3e7f47d0",
   "metadata": {},
   "outputs": [
    {
     "data": {
      "image/png": "[encoded data removed]",
      "text/plain": [
       "<Figure size 432x288 with 1 Axes>"
      ]
     },
     "metadata": {
      "needs_background": "light"
     },
     "output_type": "display_data"
    }
   ],
   "source": [
    "size = 20\n",
    "sim = IsingSimulation(size, temperature=1)\n",
    "for _ in range(100000):\n",
    "    sim.update()\n",
    "sim.display()"
   ]
  },
  {
   "cell_type": "code",
   "execution_count": null,
   "id": "5cf81b1d-4bb9-4e64-812c-dce58ea2eebe",
   "metadata": {},
   "outputs": [],
   "source": [
    "magnetisms = []\n",
    "reps = 10\n",
    "steps = 100000\n",
    "for i in range(reps):\n",
    "    sim = IsingSimulation(size, temperature = 1)\n",
    "    for _ in range(steps):\n",
    "        sim.update()\n",
    "    magnetisms.append(sim.average_magnetism())\n",
    "\n",
    "plt.hist(magnetisms)"
   ]
  },
  {
   "cell_type": "code",
   "execution_count": null,
   "id": "9f7fd1c3-75c3-4815-88d6-1df9033faa71",
   "metadata": {},
   "outputs": [],
   "source": [
    "magnetisms = []\n",
    "reps = 100\n",
    "steps = 100000\n",
    "wait = 100\n",
    "for i in range(reps):\n",
    "    sim = IsingSimulation(size, temperature = 2000)\n",
    "    while sim.temperature > 1:\n",
    "        for j in range(wait):\n",
    "            sim.update()\n",
    "        sim.set_temperature(sim.temperature - 1)\n",
    "\n",
    "    for _ in range(steps):\n",
    "        sim.update()\n",
    "    magnetisms.append(sim.average_magnetism())\n",
    "\n",
    "plt.hist(magnetisms)"
   ]
  },
  {
   "cell_type": "code",
   "execution_count": null,
   "id": "f8a18b24-055b-4fb4-ad6d-ea16675b5ca8",
   "metadata": {},
   "outputs": [],
   "source": []
  }
 ],
 "metadata": {
  "kernelspec": {
   "display_name": "Python 3 (ipykernel)",
   "language": "python",
   "name": "python3"
  },
  "language_info": {
   "codemirror_mode": {
    "name": "ipython",
    "version": 3
   },
   "file_extension": ".py",
   "mimetype": "text/x-python",
   "name": "python",
   "nbconvert_exporter": "python",
   "pygments_lexer": "ipython3",
   "version": "3.8.12"
  }
 },
 "nbformat": 4,
 "nbformat_minor": 5
}
