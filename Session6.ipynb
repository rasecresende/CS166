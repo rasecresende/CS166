{
 "cells": [
  {
   "cell_type": "code",
   "execution_count": 1,
   "id": "d50bb4da-44b3-4302-b156-65d19df35c6d",
   "metadata": {},
   "outputs": [],
   "source": [
    "import matplotlib\n",
    "from pylab import *\n",
    "%matplotlib inline\n",
    "n = 100 # size of space: n x n\n",
    "p = 0.1 # probability of initially panicky individuals\n",
    "\n",
    "def initialize():\n",
    "    global config, nextconfig, density\n",
    "    density = []\n",
    "    config = zeros([n, n])\n",
    "    for x in range(n):\n",
    "        for y in range(n):\n",
    "            config[x, y] = 1 if random() < p else 0\n",
    "    nextconfig = zeros([n, n])\n",
    "    \n",
    "def observe():\n",
    "    global config, nextconfig, density\n",
    "    cla()\n",
    "    imshow(config, vmin = 0, vmax = 1, cmap = cm.binary)\n",
    "    density.append(sum(sum(density))/n**2)\n",
    "    matplotlib.pyplot.plot(range(len(density)),density)\n",
    "    print(density)\n",
    "\n",
    "def update():\n",
    "    global config, nextconfig, density\n",
    "    for x in range(n):\n",
    "        for y in range(n):\n",
    "            count = 0\n",
    "            for dx in [-1, 0, 1]:\n",
    "                for dy in [-1, 0, 1]:\n",
    "                    count += config[(x + dx) % n, (y + dy) % n]\n",
    "            nextconfig[x, y] = 1 if count >= 4 else 0\n",
    "    config, nextconfig = nextconfig, config\n"
   ]
  },
  {
   "cell_type": "code",
   "execution_count": 2,
   "id": "d14bc153-fe33-402e-a4d5-c6fa1f13df00",
   "metadata": {},
   "outputs": [
    {
     "name": "stdout",
     "output_type": "stream",
     "text": [
      "[0.0]\n"
     ]
    },
    {
     "data": {
      "image/png": "[encoded data removed]",
      "text/plain": [
       "<Figure size 432x288 with 1 Axes>"
      ]
     },
     "metadata": {
      "needs_background": "light"
     },
     "output_type": "display_data"
    }
   ],
   "source": [
    "initialize()\n",
    "for i in range(10):\n",
    "    update()\n",
    "observe()"
   ]
  },
  {
   "cell_type": "code",
   "execution_count": null,
   "id": "e094be02-631c-4347-8408-ab3bb570d1df",
   "metadata": {},
   "outputs": [],
   "source": [
    "n = 100 # size of space: n x n\n",
    "p = 0.1 # probability of initially panicky individuals\n",
    "\n",
    "def initialize():\n",
    "    global config, nextconfig\n",
    "    config = zeros([n, n])\n",
    "    for x in range(n):\n",
    "        for y in range(n):\n",
    "            config[x, y] = 1 if random() < p else 0\n",
    "    nextconfig = zeros([n, n])\n",
    "    \n",
    "def observe():\n",
    "    global config, nextconfig\n",
    "    cla()\n",
    "    imshow(config, vmin = 0, vmax = 1, cmap = cm.binary)\n",
    "\n",
    "def update():\n",
    "    global config, nextconfig\n",
    "    for x in range(n):\n",
    "        for y in range(n):\n",
    "            count = 0\n",
    "            for dx in [-1, 0, 1]:\n",
    "                for dy in [-1, 0, 1]:\n",
    "                    count += config[(x + dx) % n, (y + dy) % n]\n",
    "            nextconfig[x, y] = 1 if count >= 4 else 0\n",
    "    config, nextconfig = nextconfig, config\n",
    "\n",
    "import pycxsimulator\n",
    "pycxsimulator.GUI().start(func=[initialize, observe, update])"
   ]
  },
  {
   "cell_type": "code",
   "execution_count": null,
   "id": "ef89bb39-6dfb-403f-a995-80dd313cd252",
   "metadata": {},
   "outputs": [],
   "source": [
    "import numpy as np\n",
    "final_density=[]\n",
    "for p in np.linspace(0,1,100):\n",
    "    initialize()\n",
    "    for step in range(200):\n",
    "        update()\n",
    "    final_density.append(sum(sum(config)))\n",
    "matplotlib.pyplot.plot(range(len(final_density)),final_density)\n",
    "\n",
    "for index,value in enumerate(final_density):\n",
    "    if value==n**2:\n",
    "        print((index-1)*0.01)\n",
    "        break\n",
    "        \n",
    "matplotlib.pyplot.plot(range(len(final_density)),final_density)"
   ]
  },
  {
   "cell_type": "code",
   "execution_count": null,
   "id": "48cb1ceb-c1d0-4d9e-a58d-67d619f44b1c",
   "metadata": {},
   "outputs": [],
   "source": []
  }
 ],
 "metadata": {
  "kernelspec": {
   "display_name": "Python 3 (ipykernel)",
   "language": "python",
   "name": "python3"
  },
  "language_info": {
   "codemirror_mode": {
    "name": "ipython",
    "version": 3
   },
   "file_extension": ".py",
   "mimetype": "text/x-python",
   "name": "python",
   "nbconvert_exporter": "python",
   "pygments_lexer": "ipython3",
   "version": "3.8.12"
  }
 },
 "nbformat": 4,
 "nbformat_minor": 5
}
