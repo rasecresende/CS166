{
  "cells": [
    {
      "cell_type": "markdown",
      "metadata": {
        "id": "view-in-github",
        "colab_type": "text"
      },
      "source": [
        "<a href=\"https://colab.research.google.com/github/rasecresende/CS166/blob/main/final.ipynb\" target=\"_parent\"><img src=\"https://colab.research.google.com/assets/colab-badge.svg\" alt=\"Open In Colab\"/></a>"
      ]
    },
    {
      "cell_type": "markdown",
      "id": "7362109e-9470-4c1d-8977-60048e348b23",
      "metadata": {
        "id": "7362109e-9470-4c1d-8977-60048e348b23"
      },
      "source": [
        "# Building Network"
      ]
    },
    {
      "cell_type": "code",
      "execution_count": 1,
      "id": "a642a888-2e4a-4bbb-aa04-c2605dbfe7d3",
      "metadata": {
        "id": "a642a888-2e4a-4bbb-aa04-c2605dbfe7d3"
      },
      "outputs": [],
      "source": [
        "import numpy as np\n",
        "import pandas as pd\n",
        "import networkx as nx\n",
        "import matplotlib.pyplot as plt\n",
        "import scipy.stats as sts\n",
        "import random\n",
        "import heapq\n",
        "from types import GeneratorType\n",
        "from networkx.algorithms.shortest_paths.weighted import single_source_dijkstra\n",
        "from networkx.algorithms.shortest_paths.generic import shortest_path\n",
        "from typing_extensions import ParamSpecKwargs\n",
        "import seaborn as sns\n",
        "sns.set() "
      ]
    },
    {
      "cell_type": "code",
      "source": [
        "def initialize_network():\n",
        "    \"\"\"\n",
        "    This function sets up the network structure\n",
        "    and attributes\n",
        "    \"\"\"\n",
        "    \n",
        "    #create network\n",
        "    G = nx.random_regular_graph(3,20)\n",
        "\n",
        "    # set the length between each node\n",
        "    for i,j in G.edges():\n",
        "        G[i][j]['length'] = round(10*random.uniform(1,10),2)\n",
        "\n",
        "    for node in G.nodes():\n",
        "      #assigns a 15% chance of a node being a drop-off station\n",
        "      if random.uniform(0,1) >= 0.15:\n",
        "        G.nodes[node]['drop-off'] = False\n",
        "      else:\n",
        "        G.nodes[node]['drop-off'] = True\n",
        "\n",
        "    #assume that we can't drop trash at HQ\n",
        "    G.nodes[0]['drop-off'] = False\n",
        "\n",
        "    return G "
      ],
      "metadata": {
        "id": "Pzx-UX7C3lKU"
      },
      "id": "Pzx-UX7C3lKU",
      "execution_count": 2,
      "outputs": []
    },
    {
      "cell_type": "code",
      "source": [
        "def delete_edges(network):\n",
        "  '''\n",
        "  Delete edges at random to make\n",
        "  the network more organic\n",
        "  '''\n",
        "  for edge in network.edges():\n",
        "    if random.random() < 0.15:\n",
        "      network.remove_edge(*edge)\n",
        "\n",
        "def create_network():\n",
        "  '''\n",
        "  Creates a random network\n",
        "  '''\n",
        "\n",
        "  worked = False\n",
        "  # initalizes a new network until we have no isolated node\n",
        "  while worked is False:\n",
        "    G = initialize_network()\n",
        "    delete_edges(G)\n",
        "\n",
        "    try:\n",
        "      nx.approximation.traveling_salesman_problem(G, weight='length')\n",
        "    except:\n",
        "      print('There are unconnected edges, running again...')\n",
        "      continue\n",
        "    else:\n",
        "      print('Successfully removed edges')\n",
        "      worked = True\n",
        "      return G"
      ],
      "metadata": {
        "id": "0OUBbpKycTQW"
      },
      "id": "0OUBbpKycTQW",
      "execution_count": 3,
      "outputs": []
    },
    {
      "cell_type": "code",
      "execution_count": 4,
      "id": "1a837058-5314-45ca-bf49-b0e0e9f9fddc",
      "metadata": {
        "id": "1a837058-5314-45ca-bf49-b0e0e9f9fddc"
      },
      "outputs": [],
      "source": [
        "def draw(network):\n",
        "  '''\n",
        "  This function takes a network\n",
        "  and plots the nodes along edge weights\n",
        "  '''\n",
        "  #set color scheme, with orange being drop-off stations\n",
        "  #red is the HQ\n",
        "  color_map = []\n",
        "  for node in network.nodes(): \n",
        "    if network.nodes[node]['drop-off'] == True:\n",
        "      color_map.append(\"orange\")\n",
        "    elif network.nodes[node] is network.nodes[0] :\n",
        "      color_map.append('red')\n",
        "    else:\n",
        "      color_map.append(\"skyblue\")\n",
        "  \n",
        "\n",
        "  pos = nx.kamada_kawai_layout(network)\n",
        "  nx.draw(network, pos=pos, with_labels=True, node_size = 1000, node_color = color_map)\n",
        "  labels = nx.get_edge_attributes(network,'length')\n",
        "  nx.draw_networkx_edge_labels(network, pos=pos, edge_labels = labels)\n",
        "  plt.savefig('fig.png')\n",
        "  plt.show()"
      ]
    },
    {
      "cell_type": "code",
      "source": [
        "G = create_network()\n",
        "draw(G)"
      ],
      "metadata": {
        "colab": {
          "base_uri": "https://localhost:8080/",
          "height": 337
        },
        "id": "-0i4-EhOlCYD",
        "outputId": "f894d5f9-3724-4fcb-a632-230f5a5fd2d1"
      },
      "id": "-0i4-EhOlCYD",
      "execution_count": 5,
      "outputs": [
        {
          "output_type": "stream",
          "name": "stdout",
          "text": [
            "Successfully removed edges\n"
          ]
        },
        {
          "output_type": "display_data",
          "data": {
            "text/plain": [
              "<Figure size 432x288 with 1 Axes>"
            ],
            "image/png": "[encoded data removed]"
          },
          "metadata": {}
        }
      ]
    },
    {
      "cell_type": "markdown",
      "id": "700f984f-dca3-4bd7-be63-a6c58b96ba23",
      "metadata": {
        "id": "700f984f-dca3-4bd7-be63-a6c58b96ba23"
      },
      "source": [
        "# Building Simulation"
      ]
    },
    {
      "cell_type": "code",
      "source": [
        "from networkx.algorithms import shortest_paths\n",
        "class Truck (object):\n",
        "  def __init__(self):\n",
        "    self.depot_node = 0 #home node\n",
        "    self.fill = 0 #how much trash it's carrying\n",
        "    self.travelled = 0 #how much it travelled\n",
        "    self.tank = 1000 #amount of fuel on tank\n",
        "    self.current_node = self.depot_node # current node, intialized at hq\n",
        "    self.visited = 0 #nodes visited by truck\n",
        "\n",
        "\n",
        "class Network ():\n",
        "  def __init__(self, hq_drop=False, printing=False):\n",
        "    self.hq_drop = hq_drop #whether we can drop-off waste at the station or not\n",
        "    self.printing = printing #sets whether to show test cases or not\n",
        "    self.g = G #networkx graph\n",
        "    self.g.pos = nx.kamada_kawai_layout(self.g)\n",
        "    self.time = 0 #keeps track of time passing\n",
        "    self.truck = Truck() #instantiates truck object\n",
        "    self.fuel_used = 1000 #keeps track of all fuel refilled\n",
        "\n",
        "    #initialize trash attribute\n",
        "    for node in self.g.nodes:\n",
        "      self.g.nodes[node]['trash'] = sts.truncnorm.rvs(0, 1000, loc=300, scale=100)\n",
        "    \n",
        "    #add HQ as drop-off if requested\n",
        "    if self.hq_drop:\n",
        "      self.g.nodes[self.truck.depot_node]['drop-off'] = True\n",
        "\n",
        "    # get list of drop-off stations\n",
        "    self.drop_stations = [i[0] for i in nx.get_node_attributes(self.g, \"drop-off\").items() if i[True]]\n",
        "\n",
        "    #there is no trash produced if the node is a drop-off station\n",
        "    for node in self.drop_stations:\n",
        "      self.g.nodes[node]['trash'] = 0\n",
        "\n",
        "    # the HQ never produces trash\n",
        "    self.g.nodes[self.truck.depot_node]['trash'] = 0\n",
        "\n",
        "    #creates a list of all the stations that we have to visit before\n",
        "    #the simulation ends\n",
        "    self.to_visit = []\n",
        "    for node in self.g.nodes:\n",
        "      if self.g.nodes[node]['trash'] > 0:\n",
        "        self.to_visit.append(node)\n",
        "\n",
        "  def shortest_path(self, nodes, current_node):\n",
        "    '''\n",
        "    Given a set of nodes, calculate the overall shortest path\n",
        "    from the current node to all other available ones\n",
        "    '''\n",
        "    paths = {}\n",
        "    for node in nodes:\n",
        "      if current_node == node:\n",
        "        pass # prevents from travelling to itself\n",
        "      else:\n",
        "        path = nx.shortest_path(self.g, source = current_node,\n",
        "                                target=node, weight = 'length')\n",
        "        path_length = nx.shortest_path_length(self.g, source = current_node,\n",
        "                                target=node, weight = 'length')\n",
        "          \n",
        "        paths[path_length] = path # stores the route and length as dictionary\n",
        "        \n",
        "    return paths\n",
        "\n",
        "\n",
        "  def check_fuel(self, truck, distance, original_paths):\n",
        "    '''\n",
        "    Function to verify if the truck can proceed with\n",
        "    the route or has to go back to refuel\n",
        "    '''\n",
        "\n",
        "    gas_used = 8*distance #8 units of gas per 1 unit travelled\n",
        "    if gas_used <= truck.tank:\n",
        "      truck.tank -= gas_used\n",
        "      self.fuel_used += gas_used #update the amount of gas we have to pay for\n",
        "      return original_paths #move the intended way\n",
        "    \n",
        "    # if there is no gas left, find path to HQ  \n",
        "    else:\n",
        "      if self.printing:\n",
        "        print('Refueling the truck! ⛽')\n",
        "      fuel_paths = {}\n",
        "      path = nx.shortest_path(self.g, source = truck.current_node,\n",
        "                              target=truck.depot_node, weight = 'length')\n",
        "      path_length = nx.shortest_path_length(self.g, source = truck.current_node,\n",
        "                              target=truck.depot_node, weight = 'length')\n",
        "      fuel_paths[path_length] = path\n",
        "      return fuel_paths #move to hq if not enough fuel\n",
        "\n",
        "\n",
        "  def trash_collection(self, truck):\n",
        "    '''\n",
        "    Check if truck can pick up the trash and update fill\n",
        "    attribute. If trash is filled, pick what we can and move\n",
        "    to the nearest drop-off station\n",
        "    '''\n",
        "\n",
        "    amount = self.g.nodes[truck.current_node]['trash']\n",
        "    available = 1000 - truck.fill # truck can only carry 100kg\n",
        "\n",
        "    if amount > available:\n",
        "      truck.fill = 1000 # fill what we can\n",
        "      self.g.nodes[truck.current_node]['trash'] = amount - available\n",
        "\n",
        "      #add time based on the amount of trash we pick up\n",
        "      self.time += abs(available*sts.norm.rvs(loc=0, scale=0.1))/10\n",
        "\n",
        "    elif amount == 0 : #pass if there is nothing to pick\n",
        "      pass\n",
        "\n",
        "    else:\n",
        "      truck.fill += amount # pick everything up\n",
        "      try:\n",
        "        self.to_visit.remove(truck.current_node) # remove node from list\n",
        "      except:\n",
        "        pass\n",
        "\n",
        "      #add time the same way as above\n",
        "      self.time += abs(amount/20*sts.norm.rvs(loc=0, scale=0.1))\n",
        "  \n",
        "\n",
        "  def check_trash(self, truck):\n",
        "    '''\n",
        "    Check if the truck is filled and give coordinates\n",
        "    for nearest drop-off station\n",
        "    '''\n",
        "    if truck.fill == 1000:\n",
        "      drop_paths = self.shortest_path(self.drop_stations, truck.current_node)\n",
        "      return drop_paths\n",
        "\n",
        "  def update_greedy(self):\n",
        "    '''\n",
        "    Updates the function by 1 time step using a greedy approach\n",
        "    '''\n",
        "    # Step 1: Collect trash\n",
        "    self.trash_collection(self.truck)\n",
        "\n",
        "    # Step 2: Check if we need to drop trash off\n",
        "    if self.truck.fill == 1000:\n",
        "      paths = self.check_trash(self.truck)\n",
        "      distance = min(paths)\n",
        "      self.truck.fill = 0\n",
        "      if self.printing:\n",
        "        print('Emptying the truck!🗑️')\n",
        "\n",
        "    else:\n",
        "      # Step 3: If not, set the next path of the truck as the one closest\n",
        "      # to the current node\n",
        "      paths = self.shortest_path(self.to_visit, self.truck.current_node)\n",
        "      distance = min(paths) # gets the shortest next path\n",
        "\n",
        "      # Step 4: Check fuel to see if possible to travel\n",
        "      if self.truck.current_node != self.truck.depot_node:\n",
        "        paths = self.check_fuel(self.truck, distance, paths)\n",
        "        distance = min(paths)\n",
        "      else:\n",
        "        self.truck.tank = 1000\n",
        "\n",
        "    # Step 5: Travel to new node\n",
        "    next_stop = paths[distance][-1]\n",
        "    self.truck.travelled += distance\n",
        "    self.truck.current_node = next_stop\n",
        "\n",
        "\n",
        "  def update_tsp(self):\n",
        "    '''\n",
        "    Implement a solution of the Travelling Salesman Problem\n",
        "    from the NetworkX library\n",
        "    '''\n",
        "    # Step 1: Calculate the optimal route so as to minimize distance\n",
        "    # and still visit all of the nodes\n",
        "    tsp = nx.approximation.traveling_salesman_problem\n",
        "    optimal_path = tsp(self.g, weight='length')\n",
        "\n",
        "    if self.truck.visited != len(optimal_path):\n",
        "      optimal_path = optimal_path[self.truck.visited:]\n",
        "      next_stop = optimal_path[0]\n",
        "      paths = {}\n",
        "      path_length = nx.shortest_path_length(self.g, source = self.truck.current_node,\n",
        "                                  target=next_stop, weight = 'length')\n",
        "      \n",
        "      paths[path_length] = [self.truck.current_node, optimal_path[0]]\n",
        "      distance = path_length\n",
        "\n",
        "    \n",
        "      # Step 1: Collect trash\n",
        "      self.trash_collection(self.truck)\n",
        "\n",
        "      # Step 2: Check if we need to drop trash off\n",
        "      if self.truck.fill == 1000:\n",
        "        paths = self.check_trash(self.truck)\n",
        "        distance = min(paths)\n",
        "        self.truck.fill = 0\n",
        "        if self.printing:\n",
        "          print('Emptying the truck!🗑️')\n",
        "\n",
        "      # Step 4: Check fuel to see if possible to travel\n",
        "      if self.truck.current_node == self.truck.depot_node:\n",
        "        self.truck.tank = 1000\n",
        "      else:\n",
        "        gas_used = 8*distance #8 units of gas per 1 unit travelled\n",
        "        if gas_used <= self.truck.tank:\n",
        "          self.truck.tank -= gas_used\n",
        "          self.fuel_used += gas_used\n",
        "        else:\n",
        "          paths = {}\n",
        "          path = nx.shortest_path(self.g, source = self.truck.current_node,\n",
        "                                  target=self.truck.depot_node, weight = 'length')\n",
        "          path_length = nx.shortest_path_length(self.g, source = self.truck.current_node,\n",
        "                                  target=self.truck.depot_node, weight = 'length')\n",
        "          paths[path_length] = path\n",
        "          distance = min(paths)\n",
        "          next_stop = self.truck.depot_node\n",
        "\n",
        "      # update attributes\n",
        "      self.truck.travelled += distance\n",
        "\n",
        "      self.truck.current_node = next_stop\n",
        "      self.truck.visited += 1\n",
        "\n",
        "    # if by the end of completing the route the truck has not collected\n",
        "    # all of the trash, shift back to a greedy approach\n",
        "    else:\n",
        "      self.update_greedy()\n",
        "      \n",
        "\n",
        "  def run_simulation(self, update_method='greedy'):\n",
        "    '''\n",
        "    Run the simulation and print relevant metrics\n",
        "    '''\n",
        "    if self.printing:\n",
        "      print('🚚💨')\n",
        "      print('STARTING SIMULATION - LEAVING HQ')\n",
        "      print()\n",
        "    if update_method == 'greedy':\n",
        "      while len(self.to_visit) > 1:\n",
        "        self.update_greedy()\n",
        "        if self.printing:\n",
        "          print('current node:', self.truck.current_node)\n",
        "          print('trash at node:', round(self.g.nodes[self.truck.current_node]['trash'],2))\n",
        "          print('farms left to clean:', self.to_visit)\n",
        "          print('current fuel on tank:', round(self.truck.tank,2))\n",
        "          print('current fill:', round(self.truck.fill,2))\n",
        "          print('fuel used so far:', round(self.fuel_used,2))\n",
        "          print()\n",
        "      if self.printing:\n",
        "        print('The simulation has finished ✔️ ')\n",
        "\n",
        "    if update_method == 'tsp':\n",
        "      while len(self.to_visit) > 1:\n",
        "        self.update_tsp()\n",
        "        if self.printing:\n",
        "          print('current node:', self.truck.current_node)\n",
        "          print('trash at node:', round(self.g.nodes[self.truck.current_node]['trash'],2))\n",
        "          print('farms left to clean:', self.to_visit)\n",
        "          print('current fuel on tank:', round(self.truck.tank,2))\n",
        "          print('current fill:', round(self.truck.fill,2))\n",
        "          print('fuel used so far:', round(self.fuel_used,2))\n",
        "          print()\n",
        "      if self.printing:\n",
        "        print('The simulation has finished ✔️ ')\n",
        "\n",
        "  def get_metrics(self):\n",
        "    '''\n",
        "    Retrieves all of the key metrics for comparing\n",
        "    different strategies\n",
        "    '''\n",
        "    # assumes that each truck travels at 110km/h\n",
        "    self.time += self.truck.travelled/110\n",
        "    return self.time, self.fuel_used"
      ],
      "metadata": {
        "id": "h8haPoXkFmRb"
      },
      "id": "h8haPoXkFmRb",
      "execution_count": 6,
      "outputs": []
    },
    {
      "cell_type": "markdown",
      "source": [
        "# Running Simulation"
      ],
      "metadata": {
        "id": "cOfSBDaymXnb"
      },
      "id": "cOfSBDaymXnb"
    },
    {
      "cell_type": "code",
      "source": [
        "# Test case demonstrating the simulation\n",
        "test_case = Network(False, printing=True)\n",
        "test_case.run_simulation()"
      ],
      "metadata": {
        "colab": {
          "base_uri": "https://localhost:8080/"
        },
        "id": "rR0uK9fPFObs",
        "outputId": "743c6411-fb22-4f32-a0c3-1176b3ca10a2"
      },
      "id": "rR0uK9fPFObs",
      "execution_count": 7,
      "outputs": [
        {
          "output_type": "stream",
          "name": "stdout",
          "text": [
            "🚚💨\n",
            "STARTING SIMULATION - LEAVING HQ\n",
            "\n",
            "current node: 3\n",
            "trash at node: 317.48\n",
            "farms left to clean: [17, 5, 13, 1, 6, 3, 8, 2, 19, 4, 16, 18, 10, 7, 12]\n",
            "current fuel on tank: 1000\n",
            "current fill: 0\n",
            "fuel used so far: 1000\n",
            "\n",
            "current node: 1\n",
            "trash at node: 393.4\n",
            "farms left to clean: [17, 5, 13, 1, 6, 8, 2, 19, 4, 16, 18, 10, 7, 12]\n",
            "current fuel on tank: 583.84\n",
            "current fill: 317.48\n",
            "fuel used so far: 1416.16\n",
            "\n",
            "current node: 19\n",
            "trash at node: 377.86\n",
            "farms left to clean: [17, 5, 13, 6, 8, 2, 19, 4, 16, 18, 10, 7, 12]\n",
            "current fuel on tank: 254.8\n",
            "current fill: 710.88\n",
            "fuel used so far: 1745.2\n",
            "\n",
            "Emptying the truck!🗑️\n",
            "current node: 9\n",
            "trash at node: 0\n",
            "farms left to clean: [17, 5, 13, 6, 8, 2, 19, 4, 16, 18, 10, 7, 12]\n",
            "current fuel on tank: 254.8\n",
            "current fill: 0\n",
            "fuel used so far: 1745.2\n",
            "\n",
            "current node: 10\n",
            "trash at node: 501.14\n",
            "farms left to clean: [17, 5, 13, 6, 8, 2, 19, 4, 16, 18, 10, 7, 12]\n",
            "current fuel on tank: 77.04\n",
            "current fill: 0\n",
            "fuel used so far: 1922.96\n",
            "\n",
            "Refueling the truck! ⛽\n",
            "current node: 0\n",
            "trash at node: 0\n",
            "farms left to clean: [17, 5, 13, 6, 8, 2, 19, 4, 16, 18, 7, 12]\n",
            "current fuel on tank: 77.04\n",
            "current fill: 501.14\n",
            "fuel used so far: 1922.96\n",
            "\n",
            "current node: 2\n",
            "trash at node: 374.74\n",
            "farms left to clean: [17, 5, 13, 6, 8, 2, 19, 4, 16, 18, 7, 12]\n",
            "current fuel on tank: 1000\n",
            "current fill: 501.14\n",
            "fuel used so far: 1922.96\n",
            "\n",
            "current node: 16\n",
            "trash at node: 519.02\n",
            "farms left to clean: [17, 5, 13, 6, 8, 19, 4, 16, 18, 7, 12]\n",
            "current fuel on tank: 471.36\n",
            "current fill: 875.88\n",
            "fuel used so far: 2451.6\n",
            "\n",
            "Emptying the truck!🗑️\n",
            "current node: 9\n",
            "trash at node: 0\n",
            "farms left to clean: [17, 5, 13, 6, 8, 19, 4, 16, 18, 7, 12]\n",
            "current fuel on tank: 471.36\n",
            "current fill: 0\n",
            "fuel used so far: 2451.6\n",
            "\n",
            "Refueling the truck! ⛽\n",
            "current node: 0\n",
            "trash at node: 0\n",
            "farms left to clean: [17, 5, 13, 6, 8, 19, 4, 16, 18, 7, 12]\n",
            "current fuel on tank: 471.36\n",
            "current fill: 0\n",
            "fuel used so far: 2451.6\n",
            "\n",
            "current node: 19\n",
            "trash at node: 88.74\n",
            "farms left to clean: [17, 5, 13, 6, 8, 19, 4, 16, 18, 7, 12]\n",
            "current fuel on tank: 1000\n",
            "current fill: 0\n",
            "fuel used so far: 2451.6\n",
            "\n",
            "current node: 6\n",
            "trash at node: 303.8\n",
            "farms left to clean: [17, 5, 13, 6, 8, 4, 16, 18, 7, 12]\n",
            "current fuel on tank: 14.4\n",
            "current fill: 88.74\n",
            "fuel used so far: 3437.2\n",
            "\n",
            "Refueling the truck! ⛽\n",
            "current node: 0\n",
            "trash at node: 0\n",
            "farms left to clean: [17, 5, 13, 8, 4, 16, 18, 7, 12]\n",
            "current fuel on tank: 14.4\n",
            "current fill: 392.54\n",
            "fuel used so far: 3437.2\n",
            "\n",
            "current node: 4\n",
            "trash at node: 376.46\n",
            "farms left to clean: [17, 5, 13, 8, 4, 16, 18, 7, 12]\n",
            "current fuel on tank: 1000\n",
            "current fill: 392.54\n",
            "fuel used so far: 3437.2\n",
            "\n",
            "current node: 13\n",
            "trash at node: 309.7\n",
            "farms left to clean: [17, 5, 13, 8, 16, 18, 7, 12]\n",
            "current fuel on tank: 200.72\n",
            "current fill: 769.0\n",
            "fuel used so far: 4236.48\n",
            "\n",
            "Emptying the truck!🗑️\n",
            "current node: 15\n",
            "trash at node: 0\n",
            "farms left to clean: [17, 5, 13, 8, 16, 18, 7, 12]\n",
            "current fuel on tank: 200.72\n",
            "current fill: 0\n",
            "fuel used so far: 4236.48\n",
            "\n",
            "Refueling the truck! ⛽\n",
            "current node: 0\n",
            "trash at node: 0\n",
            "farms left to clean: [17, 5, 13, 8, 16, 18, 7, 12]\n",
            "current fuel on tank: 200.72\n",
            "current fill: 0\n",
            "fuel used so far: 4236.48\n",
            "\n",
            "current node: 16\n",
            "trash at node: 394.9\n",
            "farms left to clean: [17, 5, 13, 8, 16, 18, 7, 12]\n",
            "current fuel on tank: 1000\n",
            "current fill: 0\n",
            "fuel used so far: 4236.48\n",
            "\n",
            "current node: 18\n",
            "trash at node: 521.8\n",
            "farms left to clean: [17, 5, 13, 8, 18, 7, 12]\n",
            "current fuel on tank: 300.0\n",
            "current fill: 394.9\n",
            "fuel used so far: 4936.48\n",
            "\n",
            "Refueling the truck! ⛽\n",
            "current node: 0\n",
            "trash at node: 0\n",
            "farms left to clean: [17, 5, 13, 8, 7, 12]\n",
            "current fuel on tank: 300.0\n",
            "current fill: 916.69\n",
            "fuel used so far: 4936.48\n",
            "\n",
            "current node: 12\n",
            "trash at node: 446.65\n",
            "farms left to clean: [17, 5, 13, 8, 7, 12]\n",
            "current fuel on tank: 1000\n",
            "current fill: 916.69\n",
            "fuel used so far: 4936.48\n",
            "\n",
            "Emptying the truck!🗑️\n",
            "current node: 11\n",
            "trash at node: 0\n",
            "farms left to clean: [17, 5, 13, 8, 7, 12]\n",
            "current fuel on tank: 1000\n",
            "current fill: 0\n",
            "fuel used so far: 4936.48\n",
            "\n",
            "current node: 5\n",
            "trash at node: 499.48\n",
            "farms left to clean: [17, 5, 13, 8, 7, 12]\n",
            "current fuel on tank: 306.88\n",
            "current fill: 0\n",
            "fuel used so far: 5629.6\n",
            "\n",
            "Refueling the truck! ⛽\n",
            "current node: 0\n",
            "trash at node: 0\n",
            "farms left to clean: [17, 13, 8, 7, 12]\n",
            "current fuel on tank: 306.88\n",
            "current fill: 499.48\n",
            "fuel used so far: 5629.6\n",
            "\n",
            "current node: 12\n",
            "trash at node: 363.34\n",
            "farms left to clean: [17, 13, 8, 7, 12]\n",
            "current fuel on tank: 1000\n",
            "current fill: 499.48\n",
            "fuel used so far: 5629.6\n",
            "\n",
            "current node: 8\n",
            "trash at node: 333.99\n",
            "farms left to clean: [17, 13, 8, 7]\n",
            "current fuel on tank: 250.4\n",
            "current fill: 862.82\n",
            "fuel used so far: 6379.2\n",
            "\n",
            "Emptying the truck!🗑️\n",
            "current node: 14\n",
            "trash at node: 0\n",
            "farms left to clean: [17, 13, 8, 7]\n",
            "current fuel on tank: 250.4\n",
            "current fill: 0\n",
            "fuel used so far: 6379.2\n",
            "\n",
            "current node: 17\n",
            "trash at node: 335.74\n",
            "farms left to clean: [17, 13, 8, 7]\n",
            "current fuel on tank: 134.32\n",
            "current fill: 0\n",
            "fuel used so far: 6495.28\n",
            "\n",
            "Refueling the truck! ⛽\n",
            "current node: 0\n",
            "trash at node: 0\n",
            "farms left to clean: [13, 8, 7]\n",
            "current fuel on tank: 134.32\n",
            "current fill: 335.74\n",
            "fuel used so far: 6495.28\n",
            "\n",
            "current node: 13\n",
            "trash at node: 78.7\n",
            "farms left to clean: [13, 8, 7]\n",
            "current fuel on tank: 1000\n",
            "current fill: 335.74\n",
            "fuel used so far: 6495.28\n",
            "\n",
            "Refueling the truck! ⛽\n",
            "current node: 0\n",
            "trash at node: 0\n",
            "farms left to clean: [8, 7]\n",
            "current fuel on tank: 1000\n",
            "current fill: 414.44\n",
            "fuel used so far: 6495.28\n",
            "\n",
            "current node: 8\n",
            "trash at node: 196.81\n",
            "farms left to clean: [8, 7]\n",
            "current fuel on tank: 1000\n",
            "current fill: 414.44\n",
            "fuel used so far: 6495.28\n",
            "\n",
            "current node: 7\n",
            "trash at node: 381.39\n",
            "farms left to clean: [7]\n",
            "current fuel on tank: 492.72\n",
            "current fill: 611.25\n",
            "fuel used so far: 7002.56\n",
            "\n",
            "The simulation has finished ✔️ \n"
          ]
        }
      ]
    },
    {
      "cell_type": "code",
      "source": [
        "def results(trials, hq_drop, update_method):\n",
        "  '''\n",
        "  Run simulation over multiple trials\n",
        "  and get time and fuel measurements\n",
        "  '''\n",
        "  time = []\n",
        "  fuel = []\n",
        "\n",
        "  for i in range(trials):\n",
        "    sim = Network(hq_drop)\n",
        "    sim.run_simulation(update_method)\n",
        "    m1, m2 = sim.get_metrics()\n",
        "    time.append(m1)\n",
        "    fuel.append(m2)\n",
        "  \n",
        "  return time, fuel"
      ],
      "metadata": {
        "id": "lVVKvjj9hFHS"
      },
      "id": "lVVKvjj9hFHS",
      "execution_count": 8,
      "outputs": []
    },
    {
      "cell_type": "code",
      "source": [
        "# Greedy approach with no hq_drop\n",
        "t1, f1 = results(1000, False, 'greedy')"
      ],
      "metadata": {
        "id": "7vV_OF1h3KCS"
      },
      "id": "7vV_OF1h3KCS",
      "execution_count": 10,
      "outputs": []
    },
    {
      "cell_type": "code",
      "source": [
        "plt.figure()\n",
        "plt.hist(t1)\n",
        "plt.axvline(np.mean(t1), label='Mean', color='red')\n",
        "plt.axvline(np.median(t1), label='Median', color='green')\n",
        "plt.title('Time - Greedy without HQ drop')\n",
        "plt.xlabel('Total Time')\n",
        "plt.ylabel('Frequency')\n",
        "plt.legend()\n",
        "plt.savefig('fig2.png')\n",
        "plt.show()\n",
        "\n",
        "plt.hist(f1)\n",
        "plt.axvline(np.mean(f1), label='Mean', color='red')\n",
        "plt.axvline(np.median(f1), label='Median', color='green')\n",
        "plt.title('Fuel - Greedy without HQ drop')\n",
        "plt.xlabel('Fuel used')\n",
        "plt.ylabel('Frequency')\n",
        "plt.legend()\n",
        "plt.savefig('fig3.png')\n",
        "plt.show()"
      ],
      "metadata": {
        "colab": {
          "base_uri": "https://localhost:8080/",
          "height": 585
        },
        "id": "tJkD6_VEiM8A",
        "outputId": "3cf0fb3e-1a5f-495e-b80b-b22bf3a7e7bf"
      },
      "id": "tJkD6_VEiM8A",
      "execution_count": 11,
      "outputs": [
        {
          "output_type": "display_data",
          "data": {
            "text/plain": [
              "<Figure size 432x288 with 1 Axes>"
            ],
            "image/png": "[encoded data removed]"
          },
          "metadata": {
            "needs_background": "light"
          }
        },
        {
          "output_type": "display_data",
          "data": {
            "text/plain": [
              "<Figure size 432x288 with 1 Axes>"
            ],
            "image/png": "[encoded data removed]"
          },
          "metadata": {
            "needs_background": "light"
          }
        }
      ]
    },
    {
      "cell_type": "code",
      "source": [
        "# Greedy approach with hq_drop\n",
        "t2, f2 = results(1000, True, 'greedy')"
      ],
      "metadata": {
        "id": "0BVMvlyEjjGL"
      },
      "id": "0BVMvlyEjjGL",
      "execution_count": 12,
      "outputs": []
    },
    {
      "cell_type": "code",
      "source": [
        "plt.figure()\n",
        "plt.hist(t2)\n",
        "plt.axvline(np.mean(t2), label='Mean', color='red')\n",
        "plt.axvline(np.median(t2), label='Median', color='green')\n",
        "plt.title('Time - Greedy with HQ drop')\n",
        "plt.xlabel('Total Time')\n",
        "plt.ylabel('Frequency')\n",
        "plt.legend()\n",
        "plt.savefig('fig4.png')\n",
        "plt.show()\n",
        "\n",
        "plt.hist(f2)\n",
        "plt.axvline(np.mean(f2), label='Mean', color='red')\n",
        "plt.axvline(np.median(f2), label='Median', color='green')\n",
        "plt.title('Fuel - Greedy with HQ drop')\n",
        "plt.xlabel('Fuel used')\n",
        "plt.ylabel('Frequency')\n",
        "plt.legend()\n",
        "plt.savefig('fig5.png')\n",
        "plt.show()"
      ],
      "metadata": {
        "colab": {
          "base_uri": "https://localhost:8080/",
          "height": 585
        },
        "id": "qi-M0fjskxJL",
        "outputId": "ae4230dd-cb01-4275-f74d-943ae753e4b2"
      },
      "id": "qi-M0fjskxJL",
      "execution_count": 18,
      "outputs": [
        {
          "output_type": "display_data",
          "data": {
            "text/plain": [
              "<Figure size 432x288 with 1 Axes>"
            ],
            "image/png": "[encoded data removed]"
          },
          "metadata": {
            "needs_background": "light"
          }
        },
        {
          "output_type": "display_data",
          "data": {
            "text/plain": [
              "<Figure size 432x288 with 1 Axes>"
            ],
            "image/png": "[encoded data removed]"
          },
          "metadata": {
            "needs_background": "light"
          }
        }
      ]
    },
    {
      "cell_type": "code",
      "source": [
        "# TSP approach without hq_drop\n",
        "t3, f3 = results(1000, False, 'tsp')"
      ],
      "metadata": {
        "id": "mRrg04G9nBsQ"
      },
      "id": "mRrg04G9nBsQ",
      "execution_count": 14,
      "outputs": []
    },
    {
      "cell_type": "code",
      "source": [
        "plt.figure()\n",
        "plt.hist(t3)\n",
        "plt.axvline(np.mean(t3), label='Mean', color='red')\n",
        "plt.axvline(np.median(t3), label='Median', color='green')\n",
        "plt.title('Time - TSP without HQ drop')\n",
        "plt.xlabel('Total Time')\n",
        "plt.ylabel('Frequency')\n",
        "plt.legend()\n",
        "plt.savefig('fig6.png')\n",
        "plt.show()\n",
        "\n",
        "plt.hist(f3)\n",
        "plt.axvline(np.mean(f3), label='Mean', color='red')\n",
        "plt.axvline(np.median(f3), label='Median', color='green')\n",
        "plt.title('Fuel - TSP without HQ drop')\n",
        "plt.xlabel('Fuel used')\n",
        "plt.ylabel('Frequency')\n",
        "plt.legend()\n",
        "plt.savefig('fig7.png')\n",
        "plt.show()"
      ],
      "metadata": {
        "colab": {
          "base_uri": "https://localhost:8080/",
          "height": 585
        },
        "id": "siF31Vppndfp",
        "outputId": "ad38d9fa-b6e8-4c7c-b6e7-4ea00ce13157"
      },
      "id": "siF31Vppndfp",
      "execution_count": 19,
      "outputs": [
        {
          "output_type": "display_data",
          "data": {
            "text/plain": [
              "<Figure size 432x288 with 1 Axes>"
            ],
            "image/png": "[encoded data removed]"
          },
          "metadata": {
            "needs_background": "light"
          }
        },
        {
          "output_type": "display_data",
          "data": {
            "text/plain": [
              "<Figure size 432x288 with 1 Axes>"
            ],
            "image/png": "[encoded data removed]"
          },
          "metadata": {
            "needs_background": "light"
          }
        }
      ]
    },
    {
      "cell_type": "code",
      "source": [
        "# TSP approach with hq_drop\n",
        "t4, f4 = results(1000, True, 'tsp')"
      ],
      "metadata": {
        "id": "wKTauF12pE0N"
      },
      "id": "wKTauF12pE0N",
      "execution_count": 16,
      "outputs": []
    },
    {
      "cell_type": "code",
      "source": [
        "plt.figure()\n",
        "plt.hist(t4)\n",
        "plt.axvline(np.mean(t4), label='Mean', color='red')\n",
        "plt.axvline(np.median(t4), label='Median', color='green')\n",
        "plt.title('Time - TSP without HQ drop')\n",
        "plt.xlabel('Total Time')\n",
        "plt.ylabel('Frequency')\n",
        "plt.legend()\n",
        "plt.savefig('fig8.png')\n",
        "plt.show()\n",
        "\n",
        "plt.hist(f4)\n",
        "plt.axvline(np.mean(f4), label='Mean', color='red')\n",
        "plt.axvline(np.median(f4), label='Median', color='green')\n",
        "plt.title('Fuel - TSP without HQ drop')\n",
        "plt.xlabel('Fuel used')\n",
        "plt.ylabel('Frequency')\n",
        "plt.legend()\n",
        "plt.savefig('fig9.png')\n",
        "plt.show()"
      ],
      "metadata": {
        "colab": {
          "base_uri": "https://localhost:8080/",
          "height": 585
        },
        "id": "NAKO7PoTpJhe",
        "outputId": "c3128c18-e6f6-465e-865c-2a9ea033c24b"
      },
      "id": "NAKO7PoTpJhe",
      "execution_count": 20,
      "outputs": [
        {
          "output_type": "display_data",
          "data": {
            "text/plain": [
              "<Figure size 432x288 with 1 Axes>"
            ],
            "image/png": "[encoded data removed]"
          },
          "metadata": {
            "needs_background": "light"
          }
        },
        {
          "output_type": "display_data",
          "data": {
            "text/plain": [
              "<Figure size 432x288 with 1 Axes>"
            ],
            "image/png": "[encoded data removed]"
          },
          "metadata": {
            "needs_background": "light"
          }
        }
      ]
    },
    {
      "cell_type": "code",
      "source": [
        "def calculate_metrics(t,f):\n",
        "  print('μ:', np.mean(t))\n",
        "  print('C.I.:', np.quantile(t, [0.025, 0.975]))\n",
        "  print()\n",
        "  print('μ:', np.mean(f))\n",
        "  print('C.I.:', np.quantile(f, [0.025, 0.975]))"
      ],
      "metadata": {
        "id": "WJeiEZ3jt3NV"
      },
      "id": "WJeiEZ3jt3NV",
      "execution_count": 37,
      "outputs": []
    },
    {
      "cell_type": "code",
      "source": [
        "calculate_metrics(t1,f1)"
      ],
      "metadata": {
        "colab": {
          "base_uri": "https://localhost:8080/"
        },
        "id": "UL675-V70ZMI",
        "outputId": "2d1d5dac-4621-425a-9144-6474cc2461e0"
      },
      "id": "UL675-V70ZMI",
      "execution_count": 38,
      "outputs": [
        {
          "output_type": "stream",
          "name": "stdout",
          "text": [
            "μ: 58.43970351064078\n",
            "C.I.: [48.10620647 70.32425318]\n",
            "\n",
            "μ: 6942.914000000001\n",
            "C.I.: [6024.72 7487.52]\n"
          ]
        }
      ]
    },
    {
      "cell_type": "code",
      "source": [
        "calculate_metrics(t2,f2)"
      ],
      "metadata": {
        "colab": {
          "base_uri": "https://localhost:8080/"
        },
        "id": "g9pcbxgn0a5d",
        "outputId": "51b5cefd-b81f-4dc4-9ed3-9139ae1aa30c"
      },
      "id": "g9pcbxgn0a5d",
      "execution_count": 39,
      "outputs": [
        {
          "output_type": "stream",
          "name": "stdout",
          "text": [
            "μ: 57.962478226305706\n",
            "C.I.: [47.69660411 69.31962976]\n",
            "\n",
            "μ: 7138.829360000001\n",
            "C.I.: [6024.72 7696.08]\n"
          ]
        }
      ]
    },
    {
      "cell_type": "code",
      "source": [
        "calculate_metrics(t3,f3)"
      ],
      "metadata": {
        "colab": {
          "base_uri": "https://localhost:8080/"
        },
        "id": "TfcXk9Tx18NS",
        "outputId": "86cce728-8bdf-458f-9105-c96364952a15"
      },
      "id": "TfcXk9Tx18NS",
      "execution_count": 40,
      "outputs": [
        {
          "output_type": "stream",
          "name": "stdout",
          "text": [
            "μ: 105.3664265084098\n",
            "C.I.: [ 92.52986503 120.73690592]\n",
            "\n",
            "μ: 13405.738720000005\n",
            "C.I.: [12524.72 14183.28]\n"
          ]
        }
      ]
    },
    {
      "cell_type": "code",
      "source": [
        "calculate_metrics(t4,f4)"
      ],
      "metadata": {
        "colab": {
          "base_uri": "https://localhost:8080/"
        },
        "id": "5FnGJK7C1-Ns",
        "outputId": "5387ec17-fb27-4d4a-e76b-3e7274f81af1"
      },
      "id": "5FnGJK7C1-Ns",
      "execution_count": 41,
      "outputs": [
        {
          "output_type": "stream",
          "name": "stdout",
          "text": [
            "μ: 105.27585873848157\n",
            "C.I.: [ 92.45510748 119.713117  ]\n",
            "\n",
            "μ: 13388.376400000005\n",
            "C.I.: [12484.026 14183.28 ]\n"
          ]
        }
      ]
    },
    {
      "cell_type": "code",
      "source": [
        ""
      ],
      "metadata": {
        "id": "VQ3h2gSl2ALy"
      },
      "id": "VQ3h2gSl2ALy",
      "execution_count": null,
      "outputs": []
    }
  ],
  "metadata": {
    "kernelspec": {
      "display_name": "Python 3 (ipykernel)",
      "language": "python",
      "name": "python3"
    },
    "language_info": {
      "codemirror_mode": {
        "name": "ipython",
        "version": 3
      },
      "file_extension": ".py",
      "mimetype": "text/x-python",
      "name": "python",
      "nbconvert_exporter": "python",
      "pygments_lexer": "ipython3",
      "version": "3.8.12"
    },
    "colab": {
      "name": "final.ipynb",
      "provenance": [],
      "collapsed_sections": [],
      "include_colab_link": true
    }
  },
  "nbformat": 4,
  "nbformat_minor": 5
}