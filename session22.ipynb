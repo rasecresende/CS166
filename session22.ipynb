{
 "cells": [
  {
   "cell_type": "markdown",
   "id": "f5ee0e58-8cd9-4bdc-821d-c1dc103cbca8",
   "metadata": {},
   "source": [
    "p(being in LLC) = 1 - q\n",
    "\n",
    "Number of nodes in the LLC = p(being in LLC) * Number of nodes =  (1 - q)*N"
   ]
  },
  {
   "cell_type": "code",
   "execution_count": 4,
   "id": "1e513fc9-5245-483e-a5d1-85e9aaa74bd2",
   "metadata": {},
   "outputs": [],
   "source": [
    "def calculate_q(k):\n",
    "    '''\n",
    "    Use a numerical root finder to determine q from the equation\n",
    "    q = exp(k*(q-1)).\n",
    "    '''\n",
    "    from scipy.optimize import root\n",
    "    return root(lambda q: q - np.exp(k * (q - 1)), 0).x[0]"
   ]
  },
  {
   "cell_type": "code",
   "execution_count": 8,
   "id": "fc6c6d9c-0e6c-415e-a923-14f263d92eb5",
   "metadata": {},
   "outputs": [
    {
     "data": {
      "image/png": "[encoded data removed]",
      "text/plain": [
       "<Figure size 432x288 with 1 Axes>"
      ]
     },
     "metadata": {
      "needs_background": "light"
     },
     "output_type": "display_data"
    }
   ],
   "source": [
    "import numpy as np\n",
    "import matplotlib.pyplot as plt\n",
    "\n",
    "def theoretical_size(nodes, k):\n",
    "    q = calculate_q(k)\n",
    "    p = 1 - q\n",
    "    return p*nodes\n",
    "\n",
    "n = 1000\n",
    "k = np.linspace(1, 11, 100)\n",
    "lcc = [theoretical_size(n, i) for i in k]\n",
    "\n",
    "plt.plot(k, lcc)\n",
    "plt.show()"
   ]
  },
  {
   "cell_type": "code",
   "execution_count": null,
   "id": "c41f10ce-b383-4166-a705-04118ed1de3e",
   "metadata": {},
   "outputs": [],
   "source": []
  }
 ],
 "metadata": {
  "kernelspec": {
   "display_name": "Python 3 (ipykernel)",
   "language": "python",
   "name": "python3"
  },
  "language_info": {
   "codemirror_mode": {
    "name": "ipython",
    "version": 3
   },
   "file_extension": ".py",
   "mimetype": "text/x-python",
   "name": "python",
   "nbconvert_exporter": "python",
   "pygments_lexer": "ipython3",
   "version": "3.8.12"
  }
 },
 "nbformat": 4,
 "nbformat_minor": 5
}
