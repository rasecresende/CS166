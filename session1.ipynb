{
 "cells": [
  {
   "cell_type": "code",
   "execution_count": 7,
   "id": "2f4a4194-70c7-41e1-8889-b1fedf772ea8",
   "metadata": {},
   "outputs": [],
   "source": [
    "import numpy as np\n",
    "import scipy.stats as sts\n",
    "\n",
    "rate_parameter = 3 # This is known as lambda in the exponential distribution\n",
    "distribution = sts.expon(scale=1/rate_parameter)\n",
    "samples = distribution.rvs(size=1000)"
   ]
  },
  {
   "cell_type": "code",
   "execution_count": 10,
   "id": "a613b38b-517e-488a-a67f-65bae0281268",
   "metadata": {},
   "outputs": [
    {
     "name": "stdout",
     "output_type": "stream",
     "text": [
      "0.3527293825649384\n",
      "0.12050869069357872\n"
     ]
    }
   ],
   "source": [
    "print(np.mean(samples))\n",
    "print(np.var(samples))"
   ]
  },
  {
   "cell_type": "code",
   "execution_count": 15,
   "id": "a8ff1118-12ed-4bfd-9b44-d6b89c70a8b1",
   "metadata": {},
   "outputs": [
    {
     "name": "stdout",
     "output_type": "stream",
     "text": [
      "8.749999999999996\n"
     ]
    }
   ],
   "source": [
    "lamb = 1/3\n",
    "mu = 1/2.5\n",
    "\n",
    "rho = lamb/mu\n",
    "\n",
    "wait_time = rho/(2*mu*(1-rho))\n",
    "queue_length = lamb*wait_time\n",
    "response_time = 1/mu + wait_time\n",
    "print(response_time)"
   ]
  },
  {
   "cell_type": "code",
   "execution_count": 14,
   "id": "3ed3724b-d045-490d-9627-dd8ca5d32d31",
   "metadata": {},
   "outputs": [
    {
     "name": "stdout",
     "output_type": "stream",
     "text": [
      "14.999999999999991\n"
     ]
    }
   ],
   "source": [
    "lamb = 1/3\n",
    "mu = 1/2.5\n",
    "\n",
    "rho = lamb/mu\n",
    "\n",
    "wait_time = rho/(mu-lamb)\n",
    "queue_length = lamb*wait_time\n",
    "\n",
    "response_time = 1/mu + wait_time\n",
    "print(response_time)"
   ]
  },
  {
   "cell_type": "code",
   "execution_count": 13,
   "id": "1aec07b6-07ae-4472-b9a5-5421608f823c",
   "metadata": {},
   "outputs": [
    {
     "name": "stdout",
     "output_type": "stream",
     "text": [
      "14.999999999999991\n"
     ]
    }
   ],
   "source": []
  },
  {
   "cell_type": "code",
   "execution_count": null,
   "id": "6bdacdc7-29c3-440a-89d3-8391b21b7998",
   "metadata": {},
   "outputs": [],
   "source": []
  }
 ],
 "metadata": {
  "kernelspec": {
   "display_name": "Python 3 (ipykernel)",
   "language": "python",
   "name": "python3"
  },
  "language_info": {
   "codemirror_mode": {
    "name": "ipython",
    "version": 3
   },
   "file_extension": ".py",
   "mimetype": "text/x-python",
   "name": "python",
   "nbconvert_exporter": "python",
   "pygments_lexer": "ipython3",
   "version": "3.8.12"
  }
 },
 "nbformat": 4,
 "nbformat_minor": 5
}
